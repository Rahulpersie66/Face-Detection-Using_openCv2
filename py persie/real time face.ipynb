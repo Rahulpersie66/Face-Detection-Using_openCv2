{
 "cells": [
  {
   "cell_type": "code",
   "execution_count": 2,
   "metadata": {},
   "outputs": [],
   "source": [
    "import cv2\n",
    "#C:\\Users\\HP\\Anaconda3\\Lib\\site-packages\\cv2\\dat"
   ]
  },
  {
   "cell_type": "code",
   "execution_count": 3,
   "metadata": {},
   "outputs": [
    {
     "ename": "error",
     "evalue": "OpenCV(4.1.0) C:\\projects\\opencv-python\\opencv\\modules\\objdetect\\src\\cascadedetect.cpp:1658: error: (-215:Assertion failed) !empty() in function 'cv::CascadeClassifier::detectMultiScale'\n",
     "output_type": "error",
     "traceback": [
      "\u001b[1;31m---------------------------------------------------------------------------\u001b[0m",
      "\u001b[1;31merror\u001b[0m                                     Traceback (most recent call last)",
      "\u001b[1;32m<ipython-input-3-74e2462eace5>\u001b[0m in \u001b[0;36m<module>\u001b[1;34m\u001b[0m\n\u001b[0;32m     31\u001b[0m \u001b[1;33m\u001b[0m\u001b[0m\n\u001b[0;32m     32\u001b[0m         \u001b[1;31m# Detects faces of different sizes in the input image\u001b[0m\u001b[1;33m\u001b[0m\u001b[1;33m\u001b[0m\u001b[1;33m\u001b[0m\u001b[0m\n\u001b[1;32m---> 33\u001b[1;33m         \u001b[0mfaces\u001b[0m \u001b[1;33m=\u001b[0m \u001b[0mface_cascade\u001b[0m\u001b[1;33m.\u001b[0m\u001b[0mdetectMultiScale\u001b[0m\u001b[1;33m(\u001b[0m\u001b[0mgray\u001b[0m\u001b[1;33m,\u001b[0m \u001b[1;36m1.3\u001b[0m\u001b[1;33m,\u001b[0m \u001b[1;36m5\u001b[0m\u001b[1;33m)\u001b[0m\u001b[1;33m\u001b[0m\u001b[1;33m\u001b[0m\u001b[0m\n\u001b[0m\u001b[0;32m     34\u001b[0m \u001b[1;33m\u001b[0m\u001b[0m\n\u001b[0;32m     35\u001b[0m         \u001b[1;32mfor\u001b[0m \u001b[1;33m(\u001b[0m\u001b[0mx\u001b[0m\u001b[1;33m,\u001b[0m\u001b[0my\u001b[0m\u001b[1;33m,\u001b[0m\u001b[0mw\u001b[0m\u001b[1;33m,\u001b[0m\u001b[0mh\u001b[0m\u001b[1;33m)\u001b[0m \u001b[1;32min\u001b[0m \u001b[0mfaces\u001b[0m\u001b[1;33m:\u001b[0m\u001b[1;33m\u001b[0m\u001b[1;33m\u001b[0m\u001b[0m\n",
      "\u001b[1;31merror\u001b[0m: OpenCV(4.1.0) C:\\projects\\opencv-python\\opencv\\modules\\objdetect\\src\\cascadedetect.cpp:1658: error: (-215:Assertion failed) !empty() in function 'cv::CascadeClassifier::detectMultiScale'\n"
     ]
    }
   ],
   "source": [
    "# OpenCV program to detect face in real time \n",
    "# import libraries of python OpenCV \n",
    "# where its functionality resides \n",
    "#import cv2 \n",
    "\n",
    "# load the required trained XML classifiers \n",
    "# https://github.com/Itseez/opencv/blob/master/ \n",
    "# data/haarcascades/haarcascade_frontalface_default.xml \n",
    "# Trained XML classifiers describes some features of some \n",
    "# object we want to detect a cascade function is trained \n",
    "# from a lot of positive(faces) and negative(non-faces) \n",
    "# images. \n",
    "face_cascade = cv2.CascadeClassifier('haarcascade_frontalface_default.xml') \n",
    "\n",
    "# https://github.com/Itseez/opencv/blob/master \n",
    "# /data/haarcascades/haarcascade_eye.xml \n",
    "# Trained XML file for detecting eyes \n",
    "eye_cascade = cv2.CascadeClassifier('haarcascade_eye.xml') \n",
    "\n",
    "# capture frames from a camera \n",
    "cap = cv2.VideoCapture(0) \n",
    "\n",
    "# loop runs if capturing has been initialized. \n",
    "while 1: \n",
    "\n",
    "\t# reads frames from a camera \n",
    "\tret, img = cap.read() \n",
    "\n",
    "\t# convert to gray scale of each frames \n",
    "\tgray = cv2.cvtColor(img, cv2.COLOR_BGR2GRAY) \n",
    "\n",
    "\t# Detects faces of different sizes in the input image \n",
    "\tfaces = face_cascade.detectMultiScale(gray, 1.3, 5) \n",
    "\n",
    "\tfor (x,y,w,h) in faces: \n",
    "\t\t# To draw a rectangle in a face \n",
    "\t\tcv2.rectangle(img,(x,y),(x+w,y+h),(255,255,0),2) \n",
    "\t\troi_gray = gray[y:y+h, x:x+w] \n",
    "\t\troi_color = img[y:y+h, x:x+w] \n",
    "\n",
    "\t\t# Detects eyes of different sizes in the input image \n",
    "\t\teyes = eye_cascade.detectMultiScale(roi_gray) \n",
    "\n",
    "\t\t#To draw a rectangle in eyes \n",
    "\t\tfor (ex,ey,ew,eh) in eyes: \n",
    "\t\t\tcv2.rectangle(roi_color,(ex,ey),(ex+ew,ey+eh),(0,127,255),2) \n",
    "\n",
    "\t# Display an image in a window \n",
    "\tcv2.imshow('img',img) \n",
    "\n",
    "\t# Wait for Esc key to stop \n",
    "\tk = cv2.waitKey(30) & 0xff\n",
    "\tif k == 27: \n",
    "\t\tbreak\n",
    "\n",
    "# Close the window \n",
    "cap.release() \n",
    "\n",
    "# De-allocate any associated memory usage \n",
    "cv2.destroyAllWindows() \n"
   ]
  },
  {
   "cell_type": "code",
   "execution_count": null,
   "metadata": {},
   "outputs": [],
   "source": []
  }
 ],
 "metadata": {
  "kernelspec": {
   "display_name": "Python 3",
   "language": "python",
   "name": "python3"
  },
  "language_info": {
   "codemirror_mode": {
    "name": "ipython",
    "version": 3
   },
   "file_extension": ".py",
   "mimetype": "text/x-python",
   "name": "python",
   "nbconvert_exporter": "python",
   "pygments_lexer": "ipython3",
   "version": "3.7.3"
  }
 },
 "nbformat": 4,
 "nbformat_minor": 2
}
