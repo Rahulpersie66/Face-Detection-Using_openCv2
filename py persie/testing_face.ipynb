{
 "cells": [
  {
   "cell_type": "code",
   "execution_count": 8,
   "metadata": {},
   "outputs": [
    {
     "ename": "SyntaxError",
     "evalue": "(unicode error) 'unicodeescape' codec can't decode bytes in position 2-3: truncated \\UXXXXXXXX escape (<ipython-input-8-cdf061b71059>, line 4)",
     "output_type": "error",
     "traceback": [
      "\u001b[1;36m  File \u001b[1;32m\"<ipython-input-8-cdf061b71059>\"\u001b[1;36m, line \u001b[1;32m4\u001b[0m\n\u001b[1;33m    face_classifier = cv2.CascadeClassifier('C:\\Users\\HP\\Anaconda3\\pkgs\\opencv-4.1.0-py37hb4945ee_5\\Library\\etc\\haarcascades\\haarscade_frontalface_default.xml')# address chanfge\u001b[0m\n\u001b[1;37m                                           ^\u001b[0m\n\u001b[1;31mSyntaxError\u001b[0m\u001b[1;31m:\u001b[0m (unicode error) 'unicodeescape' codec can't decode bytes in position 2-3: truncated \\UXXXXXXXX escape\n"
     ]
    }
   ],
   "source": [
    "import cv2\n",
    "import numpy as np\n",
    "\n",
    "face_classifier = cv2.CascadeClassifier('C:\\Users\\HP\\Anaconda3\\pkgs\\opencv-4.1.0-py37hb4945ee_5\\Library\\etc\\haarcascades\\haarscade_frontalface_default.xml')# address chanfge\n",
    "\n",
    "\n",
    "def face_extractor(img):\n",
    "\n",
    "    gray = cv2.cvtColor(img,cv2.COLOR_BGR2GRAY)\n",
    "    faces =face_classifier.detectMultiScale(gray,1.3,5)\n",
    "\n",
    "    if faces is():\n",
    "        return None\n",
    "\n",
    "    for (x,y,w,h) in faces:\n",
    "        cropped_face = img[y:y+h ,x:x+w]\n",
    "\n",
    "    return cropped_face\n",
    "\n",
    "cap =cv2.VideoCapture(0)\n",
    "count = 0\n",
    "\n",
    "while True:\n",
    "    ret,frame = cap.read()\n",
    "    if face_extractor(frame) is not None:\n",
    "        count+=1\n",
    "        face = cv2.resize(face_extractor(frame),(200,200))\n",
    "        face = cv2.cvtColor(face, cv2.COLOR_BGR2GRAY)\n",
    "\n",
    "        file_name_path = 'C:\\Users\\HP\\Desktop\\face\\user'+str(count)+'.jpg'#face /user change\n",
    "        cv2.imwrite(file_name_path,face)\n",
    "\n",
    "        cv2.putText(face,str(count),(50,50),cv2.FONT_HERSHEY_COMPLEX,1,(0,255,0),2)\n",
    "        cv2.imshow('face Cropper',face)\n",
    "    else:\n",
    "        print(\"Face not  Found\")\n",
    "        pass\n",
    " \n",
    "    if cv2.waitKey(1)==13 or count==100:\n",
    "        break\n",
    "\n",
    "cap.release()\n",
    "cv2.destroyAllWindows()\n",
    "print('Collecting Samples Complete!!! ')\n"
   ]
  },
  {
   "cell_type": "code",
   "execution_count": null,
   "metadata": {},
   "outputs": [],
   "source": []
  },
  {
   "cell_type": "code",
   "execution_count": null,
   "metadata": {},
   "outputs": [],
   "source": []
  }
 ],
 "metadata": {
  "kernelspec": {
   "display_name": "Python 3",
   "language": "python",
   "name": "python3"
  },
  "language_info": {
   "codemirror_mode": {
    "name": "ipython",
    "version": 3
   },
   "file_extension": ".py",
   "mimetype": "text/x-python",
   "name": "python",
   "nbconvert_exporter": "python",
   "pygments_lexer": "ipython3",
   "version": "3.7.3"
  }
 },
 "nbformat": 4,
 "nbformat_minor": 2
}
