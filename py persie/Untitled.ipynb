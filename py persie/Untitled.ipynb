{
 "cells": [
  {
   "cell_type": "code",
   "execution_count": 1,
   "metadata": {},
   "outputs": [],
   "source": [
    "#define a function \n",
    "# a function must return a value in python , in c it return 0 \n",
    "def sub(x,y):\n",
    "    z=x-y\n",
    "    return z\n"
   ]
  },
  {
   "cell_type": "code",
   "execution_count": 2,
   "metadata": {},
   "outputs": [
    {
     "name": "stdout",
     "output_type": "stream",
     "text": [
      "Enter tge value4\n",
      "enter the value7\n"
     ]
    }
   ],
   "source": [
    "#For taking input \n",
    "x=int(input(\"Enter tge value\"))\n",
    "y=int(input(\"enter the value\"))"
   ]
  },
  {
   "cell_type": "code",
   "execution_count": 3,
   "metadata": {},
   "outputs": [
    {
     "name": "stdout",
     "output_type": "stream",
     "text": [
      "Enter tge value6\n",
      "enter the value8\n"
     ]
    },
    {
     "data": {
      "text/plain": [
       "-2"
      ]
     },
     "execution_count": 3,
     "metadata": {},
     "output_type": "execute_result"
    }
   ],
   "source": [
    "def sub(x,y):\n",
    "    z=x-y\n",
    "    return z\n",
    "a=int(input(\"Enter tge value\"))\n",
    "y=int(input(\"enter the value\"))\n",
    "#calling a function \n",
    "sub(a,y)"
   ]
  },
  {
   "cell_type": "code",
   "execution_count": 7,
   "metadata": {},
   "outputs": [
    {
     "name": "stdout",
     "output_type": "stream",
     "text": [
      "2 3 4 5 6 7 8 9 10 11 12 13 14 15 16 17 18 19 20 21 22 23 24 25 26 27 28 29 30 31 32 33 34 35 36 37 38 39 40 41 42 43 44 45 46 47 48 49 50 51 52 53 54 55 56 57 58 59 60 61 62 63 64 65 66 67 68 69 70 71 72 73 74 75 76 77 78 79 80 81 82 83 84 85 86 87 88 89 90 91 92 93 94 95 96 97 98 99 "
     ]
    }
   ],
   "source": [
    "#using a for loop\n",
    "for i in range(2,100):\n",
    "    print (i,end=\" \")#end=\" \" to print in horizontal line\n",
    "    #can also print in vertical by not writing the end=\" \"\n",
    "# also write a list or array length in place of range(2,100)    "
   ]
  },
  {
   "cell_type": "code",
   "execution_count": 13,
   "metadata": {},
   "outputs": [
    {
     "name": "stdout",
     "output_type": "stream",
     "text": [
      "[0. 0.]\n",
      "[0. 0.]\n"
     ]
    }
   ],
   "source": [
    "#writing array length in place of range\n",
    "import numpy as np\n",
    "t=np.zeros([2,2])\n",
    "t\n",
    "for i in t:\n",
    "    print(i)"
   ]
  },
  {
   "cell_type": "code",
   "execution_count": 14,
   "metadata": {},
   "outputs": [
    {
     "name": "stdout",
     "output_type": "stream",
     "text": [
      "3\n",
      "5\n",
      "7\n"
     ]
    }
   ],
   "source": [
    "#using while loop\n",
    "a=3\n",
    "while (a<9):# while a<9:\n",
    "    print(a)\n",
    "    a=a+2"
   ]
  },
  {
   "cell_type": "code",
   "execution_count": 15,
   "metadata": {},
   "outputs": [
    {
     "name": "stdout",
     "output_type": "stream",
     "text": [
      "1\n",
      "2\n",
      "3\n",
      "1\n",
      "2\n",
      "3\n",
      "1\n",
      "2\n",
      "3\n"
     ]
    }
   ],
   "source": [
    "#using for loop for 1,2,3 pattern\n",
    "for i in range(1,4):#i i always in 1,3 i.e last-1 i.e 4-1=3\n",
    "    for  j in range (1,4):# j last value will be last-1\n",
    "        print(j)#end=\" \"for horizontal"
   ]
  },
  {
   "cell_type": "code",
   "execution_count": 16,
   "metadata": {},
   "outputs": [
    {
     "name": "stdout",
     "output_type": "stream",
     "text": [
      "1 2 3 1 2 3 1 2 3 "
     ]
    }
   ],
   "source": [
    "#using for loop for 1,2,3 pattern\n",
    "for i in range(1,4):#i i always in 1,3 i.e last-1 i.e 4-1=3\n",
    "    for  j in range (1,4):# j last value will be last-1\n",
    "        print(j,end=\" \")#end=\" \"for horizontal"
   ]
  },
  {
   "cell_type": "code",
   "execution_count": 17,
   "metadata": {},
   "outputs": [
    {
     "name": "stdout",
     "output_type": "stream",
     "text": [
      "1 1 1 2 2 2 3 3 3 "
     ]
    }
   ],
   "source": [
    "#using for loop for 1,2,3 pattern\n",
    "for i in range(1,4):#i i always in 1,3 i.e last-1 i.e 4-1=3\n",
    "    for  j in range (1,4):# j last value will be last-1\n",
    "        print(i,end=\" \")"
   ]
  },
  {
   "cell_type": "code",
   "execution_count": 18,
   "metadata": {},
   "outputs": [
    {
     "name": "stdout",
     "output_type": "stream",
     "text": [
      "\n",
      "1 2 3 \n",
      "1 2 3 \n",
      "1 2 3 "
     ]
    }
   ],
   "source": [
    "#using for loop for 1,2,3 pattern\n",
    "for i in range(1,4):#i i always in 1,3 i.e last-1 i.e 4-1=3\n",
    "    print()#to go in line after for loop of j ends it value \n",
    "    for  j in range (1,4):# j last value will be last-1\n",
    "        print(j,end=\" \")#end=\" \"for horizontal"
   ]
  },
  {
   "cell_type": "code",
   "execution_count": 20,
   "metadata": {},
   "outputs": [
    {
     "name": "stdout",
     "output_type": "stream",
     "text": [
      "\n",
      "1\n",
      "2\n",
      "3\n",
      "\n",
      "1\n",
      "2\n",
      "3\n",
      "\n",
      "1\n",
      "2\n",
      "3\n"
     ]
    }
   ],
   "source": [
    "#using for loop for 1,2,3 pattern\n",
    "for i in range(1,4):#i i always in 1,3 i.e last-1 i.e 4-1=3\n",
    "    print()#here it leave space after for loop of j ends\n",
    "    for  j in range (1,4):# j last value will be last-1\n",
    "        print(j)#end=\" \"for horizontal"
   ]
  },
  {
   "cell_type": "code",
   "execution_count": 22,
   "metadata": {},
   "outputs": [
    {
     "name": "stdout",
     "output_type": "stream",
     "text": [
      " 1 1 1  2 2 2  3 3 3 "
     ]
    }
   ],
   "source": [
    "#using for loop for 1,2,3 pattern\n",
    "for i in range(1,4):#i i always in 1,3 i.e last-1 i.e 4-1=3\n",
    "    print(end=\" \")#it helps in spacing after the for loop of j ends \n",
    "    for  j in range (1,4):# j last value will be last-1\n",
    "        print(i,end=\" \")#end=\" \"for horizontal"
   ]
  },
  {
   "cell_type": "code",
   "execution_count": 23,
   "metadata": {},
   "outputs": [
    {
     "name": "stdout",
     "output_type": "stream",
     "text": [
      "\n",
      "1 1 1 \n",
      "2 2 2 \n",
      "3 3 3 "
     ]
    }
   ],
   "source": [
    "#using for loop for 1,2,3 pattern\n",
    "for i in range(1,4):#i i always in 1,3 i.e last-1 i.e 4-1=3\n",
    "    print()#to go in line after for loop of j ends it value \n",
    "    for  j in range (1,4):# j last value will be last-1\n",
    "        print(i,end=\" \")#end=\" \"for horizontal"
   ]
  },
  {
   "cell_type": "code",
   "execution_count": 25,
   "metadata": {},
   "outputs": [
    {
     "name": "stdout",
     "output_type": "stream",
     "text": [
      "729\n"
     ]
    }
   ],
   "source": [
    "#lamda function use i.e lambda function much easier to use consume less line then define function \n",
    "#s=lambda (no. of arguments) :(expression)\n",
    "#print(s(value of argument i.e x))\n",
    "s=lambda x:x*x*x\n",
    "print(s(9))"
   ]
  },
  {
   "cell_type": "code",
   "execution_count": 26,
   "metadata": {},
   "outputs": [],
   "source": [
    "#another exa,ple of lambda function"
   ]
  },
  {
   "cell_type": "code",
   "execution_count": 33,
   "metadata": {},
   "outputs": [
    {
     "name": "stdout",
     "output_type": "stream",
     "text": [
      "enter value for x2\n",
      "enter the value for y1\n",
      "3\n"
     ]
    }
   ],
   "source": [
    "s=lambda x,y:x+y\n",
    "x=int (input(\"enter value for x\"))\n",
    "a=int (input (\"enter the value for y\"))\n",
    "print(s(x,a))\n",
    "#print(lambda x,y:x+y(6,10)) can't define like this"
   ]
  },
  {
   "cell_type": "code",
   "execution_count": 34,
   "metadata": {},
   "outputs": [],
   "source": [
    "#import numpy library for use of the array\n",
    "import numpy as np"
   ]
  },
  {
   "cell_type": "code",
   "execution_count": 41,
   "metadata": {},
   "outputs": [
    {
     "data": {
      "text/plain": [
       "[1, 4, 67, 89, 'list', 'tomato']"
      ]
     },
     "execution_count": 41,
     "metadata": {},
     "output_type": "execute_result"
    }
   ],
   "source": [
    "#define a list\n",
    "#list are just like arrays, declared in other language \n",
    "#list can uses different data type at same time i.e integer ,string as well as object\n",
    "#list are mutable i.e that is it can be changed at any time\n",
    "#list can be used to implement stack and queue\n",
    "l=[1,4,67,89,'list','tomato']#one dimensional list\n",
    "l\n"
   ]
  },
  {
   "cell_type": "code",
   "execution_count": 39,
   "metadata": {},
   "outputs": [
    {
     "data": {
      "text/plain": [
       "'tomato'"
      ]
     },
     "execution_count": 39,
     "metadata": {},
     "output_type": "execute_result"
    }
   ],
   "source": [
    "l[5]#indexing  start from 0\n"
   ]
  },
  {
   "cell_type": "code",
   "execution_count": 43,
   "metadata": {},
   "outputs": [
    {
     "data": {
      "text/plain": [
       "['ram',\n",
       " 'sita',\n",
       " 34.4,\n",
       " 22,\n",
       " [[1, 4, 67, 89, 'list', 'tomato']],\n",
       " ['rohan', 'anaya']]"
      ]
     },
     "execution_count": 43,
     "metadata": {},
     "output_type": "execute_result"
    }
   ],
   "source": [
    "#multi dimensional list\n",
    "l1=['ram','sita',34.4,22,[l],['rohan', 'anaya']]\n",
    "l1"
   ]
  },
  {
   "cell_type": "code",
   "execution_count": 47,
   "metadata": {},
   "outputs": [
    {
     "data": {
      "text/plain": [
       "34.4"
      ]
     },
     "execution_count": 47,
     "metadata": {},
     "output_type": "execute_result"
    }
   ],
   "source": [
    "#indexing of multidimensional\n",
    "l1[2]"
   ]
  },
  {
   "cell_type": "code",
   "execution_count": 48,
   "metadata": {},
   "outputs": [
    {
     "data": {
      "text/plain": [
       "[[1, 4, 67, 89, 'list', 'tomato']]"
      ]
     },
     "execution_count": 48,
     "metadata": {},
     "output_type": "execute_result"
    }
   ],
   "source": [
    "l1[4]"
   ]
  },
  {
   "cell_type": "code",
   "execution_count": 53,
   "metadata": {},
   "outputs": [
    {
     "data": {
      "text/plain": [
       "['rohan', 'anaya']"
      ]
     },
     "execution_count": 53,
     "metadata": {},
     "output_type": "execute_result"
    }
   ],
   "source": [
    "l1[5]"
   ]
  },
  {
   "cell_type": "code",
   "execution_count": 54,
   "metadata": {},
   "outputs": [
    {
     "data": {
      "text/plain": [
       "[1, 4, 67, 89, 'list', 'tomato']"
      ]
     },
     "execution_count": 54,
     "metadata": {},
     "output_type": "execute_result"
    }
   ],
   "source": [
    "l1[4][0]"
   ]
  },
  {
   "cell_type": "code",
   "execution_count": 55,
   "metadata": {},
   "outputs": [
    {
     "data": {
      "text/plain": [
       "4"
      ]
     },
     "execution_count": 55,
     "metadata": {},
     "output_type": "execute_result"
    }
   ],
   "source": [
    "l1[4][0][1]#indexing of 4th elmnet of list"
   ]
  },
  {
   "cell_type": "code",
   "execution_count": 57,
   "metadata": {},
   "outputs": [
    {
     "data": {
      "text/plain": [
       "'anaya'"
      ]
     },
     "execution_count": 57,
     "metadata": {},
     "output_type": "execute_result"
    }
   ],
   "source": [
    "l1[5][1]"
   ]
  },
  {
   "cell_type": "code",
   "execution_count": 58,
   "metadata": {},
   "outputs": [
    {
     "data": {
      "text/plain": [
       "['ram',\n",
       " 'sita',\n",
       " 34.4,\n",
       " 22,\n",
       " [[1, 4, 67, 89, 'list', 'tomato']],\n",
       " ['rohan', 'anaya'],\n",
       " 3]"
      ]
     },
     "execution_count": 58,
     "metadata": {},
     "output_type": "execute_result"
    }
   ],
   "source": [
    "#adding element to  list append() & extend()\n",
    "l1.append(3)#append() function adds the element at the last of the array or list\n",
    "l1"
   ]
  },
  {
   "cell_type": "code",
   "execution_count": 67,
   "metadata": {},
   "outputs": [
    {
     "data": {
      "text/plain": [
       "['ram',\n",
       " 'sita',\n",
       " 34.4,\n",
       " 22,\n",
       " [[1, 4, 67, 89, 'list', 'tomato']],\n",
       " ['rohan', 'anaya'],\n",
       " 3,\n",
       " 'parul',\n",
       " 'parul',\n",
       " [1, 4, 67, 89, 'list', 'tomato'],\n",
       " 'parul',\n",
       " [1, 4, 67, 89, 'list', 'tomato'],\n",
       " [1, 4, 67, 89, 'list', 'tomato'],\n",
       " 'parul']"
      ]
     },
     "execution_count": 67,
     "metadata": {},
     "output_type": "execute_result"
    }
   ],
   "source": [
    "l1.append('parul')# can append multiple items like l1.append(9,8,7,'pARUL')\n",
    "l1"
   ]
  },
  {
   "cell_type": "code",
   "execution_count": 68,
   "metadata": {},
   "outputs": [
    {
     "data": {
      "text/plain": [
       "['ram',\n",
       " 'sita',\n",
       " 34.4,\n",
       " 22,\n",
       " [[1, 4, 67, 89, 'list', 'tomato']],\n",
       " ['rohan', 'anaya'],\n",
       " 3,\n",
       " 'parul',\n",
       " 'parul',\n",
       " [1, 4, 67, 89, 'list', 'tomato'],\n",
       " 'parul',\n",
       " [1, 4, 67, 89, 'list', 'tomato'],\n",
       " [1, 4, 67, 89, 'list', 'tomato'],\n",
       " 'parul',\n",
       " [1, 4, 67, 89, 'list', 'tomato']]"
      ]
     },
     "execution_count": 68,
     "metadata": {},
     "output_type": "execute_result"
    }
   ],
   "source": [
    "l1.append(l)#appending or adding the list to the list1\n",
    "l1"
   ]
  },
  {
   "cell_type": "code",
   "execution_count": 65,
   "metadata": {},
   "outputs": [
    {
     "data": {
      "text/plain": [
       "['ram',\n",
       " 'sita',\n",
       " 34.4,\n",
       " 22,\n",
       " [[1, 4, 67, 89, 'list', 'tomato']],\n",
       " ['rohan', 'anaya'],\n",
       " 3,\n",
       " 'parul',\n",
       " 'parul',\n",
       " [1, 4, 67, 89, 'list', 'tomato'],\n",
       " 'parul',\n",
       " [1, 4, 67, 89, 'list', 'tomato']]"
      ]
     },
     "execution_count": 65,
     "metadata": {},
     "output_type": "execute_result"
    }
   ],
   "source": []
  },
  {
   "cell_type": "code",
   "execution_count": 72,
   "metadata": {},
   "outputs": [
    {
     "data": {
      "text/plain": [
       "['ram',\n",
       " 'sita',\n",
       " 34.4,\n",
       " 22,\n",
       " [[1, 4, 67, 89, 'list', 'tomato']],\n",
       " ['rohan', 'anaya'],\n",
       " 3,\n",
       " 'parul',\n",
       " 'parul',\n",
       " [1, 4, 67, 89, 'list', 'tomato'],\n",
       " 'parul',\n",
       " 0,\n",
       " [1, 4, 67, 89, 'list', 'tomato'],\n",
       " 3,\n",
       " [1, 4, 67, 89, 'list', 'tomato'],\n",
       " 'parul',\n",
       " [1, 4, 67, 89, 'list', 'tomato']]"
      ]
     },
     "execution_count": 72,
     "metadata": {},
     "output_type": "execute_result"
    }
   ],
   "source": [
    "#extending\n",
    "l1.insert(13,3)\n",
    "l1\n"
   ]
  },
  {
   "cell_type": "code",
   "execution_count": 73,
   "metadata": {},
   "outputs": [
    {
     "data": {
      "text/plain": [
       "['parul',\n",
       " 'tanya',\n",
       " 'romania',\n",
       " 'peraie',\n",
       " 'caribean',\n",
       " 5,\n",
       " 7,\n",
       " [1, 4, 67, 89, 'list', 'tomato']]"
      ]
     },
     "execution_count": 73,
     "metadata": {},
     "output_type": "execute_result"
    }
   ],
   "source": [
    "l2=['parul','tanya','romania','peraie','caribean',5,7,l]\n",
    "l2"
   ]
  },
  {
   "cell_type": "code",
   "execution_count": 74,
   "metadata": {},
   "outputs": [
    {
     "data": {
      "text/plain": [
       "['parul',\n",
       " 'rahul',\n",
       " 'tanya',\n",
       " 'romania',\n",
       " 'peraie',\n",
       " 'caribean',\n",
       " 5,\n",
       " 7,\n",
       " [1, 4, 67, 89, 'list', 'tomato', 'brinjal']]"
      ]
     },
     "execution_count": 74,
     "metadata": {},
     "output_type": "execute_result"
    }
   ],
   "source": [
    "#use to insert at specific position i.e postion number then number or char want to add\n",
    "l2.insert(1,'rahul')\n",
    "l.insert(6,'brinjal')\n",
    "l2"
   ]
  },
  {
   "cell_type": "code",
   "execution_count": 75,
   "metadata": {},
   "outputs": [
    {
     "name": "stdout",
     "output_type": "stream",
     "text": [
      "['parul', 'rahul', 'tanya', 'romania', 'peraie', 'caribean', 5, 7, [1, 4, 67, 89, 'list', 'tomato', 'brinjal']] "
     ]
    }
   ],
   "source": [
    "print(l2,end=\" \")"
   ]
  },
  {
   "cell_type": "markdown",
   "metadata": {},
   "source": [
    "l1.append((5,6))\n",
    "print(l1,end=\" \")"
   ]
  },
  {
   "cell_type": "code",
   "execution_count": 77,
   "metadata": {},
   "outputs": [
    {
     "name": "stdout",
     "output_type": "stream",
     "text": [
      "['ram', 'sita', 34.4, 22, [[1, 4, 67, 89, 'list', 'tomato', 'brinjal']], ['rohan', 'anaya'], 3, 'parul', 'parul', [1, 4, 67, 89, 'list', 'tomato', 'brinjal'], 'parul', 0, [1, 4, 67, 89, 'list', 'tomato', 'brinjal'], 3, [1, 4, 67, 89, 'list', 'tomato', 'brinjal'], 'parul', [1, 4, 67, 89, 'list', 'tomato', 'brinjal'], (5, 6)] "
     ]
    }
   ],
   "source": [
    "l1.append((5,6))\n",
    "print(l1,end=\" \")\n"
   ]
  },
  {
   "cell_type": "code",
   "execution_count": 84,
   "metadata": {},
   "outputs": [
    {
     "name": "stdout",
     "output_type": "stream",
     "text": [
      "['ram', 'sita', 34.4, 22, [[1, 4, 67, 89, 'list', 'tomato', 'brinjal']], ['rohan', 'anaya'], 3, 'parul', 'parul', [1, 4, 67, 89, 'list', 'tomato', 'brinjal'], 'parul', 0, [1, 4, 67, 89, 'list', 'tomato', 'brinjal'], 3, [1, 4, 67, 89, 'list', 'tomato', 'brinjal'], 'parul', [1, 4, 67, 89, 'list', 'tomato', 'brinjal'], (5, 6), 1, 2, 3, 4, 5, 6, 'i', 'i', 'i', 'i', 'i', 'i', 1, 2, 3, 4, 5, 6, (1, 1), (2, 2), (3, 3), (4, 4), (5, 5), (6, 6), 1, 2, 3, 4, 5, 6, (1, 1), (2, 2), (3, 3), (4, 4), (5, 5), (6, 6)] "
     ]
    }
   ],
   "source": [
    "for i in range(1,7):\n",
    "    l1.append((i,i))\n",
    "print(l1,end=\" \")"
   ]
  },
  {
   "cell_type": "code",
   "execution_count": 85,
   "metadata": {},
   "outputs": [
    {
     "name": "stdout",
     "output_type": "stream",
     "text": [
      "['parul', 'rahul', 'tanya', 'romania', 'peraie', 'caribean', 5, 7, [1, 4, 67, 89, 'list', 'tomato', 'brinjal'], 'oggy', 'cockroach'] "
     ]
    }
   ],
   "source": [
    "#extend operation can also be use to add multiple items and list \n",
    "l2.extend(['oggy','cockroach'])\n",
    "print(l2,end=\" \")"
   ]
  },
  {
   "cell_type": "code",
   "execution_count": 86,
   "metadata": {},
   "outputs": [],
   "source": [
    "l2.extend([l1,'manya'])"
   ]
  },
  {
   "cell_type": "code",
   "execution_count": 87,
   "metadata": {},
   "outputs": [
    {
     "name": "stdout",
     "output_type": "stream",
     "text": [
      "['parul', 'rahul', 'tanya', 'romania', 'peraie', 'caribean', 5, 7, [1, 4, 67, 89, 'list', 'tomato', 'brinjal'], 'oggy', 'cockroach', ['ram', 'sita', 34.4, 22, [[1, 4, 67, 89, 'list', 'tomato', 'brinjal']], ['rohan', 'anaya'], 3, 'parul', 'parul', [1, 4, 67, 89, 'list', 'tomato', 'brinjal'], 'parul', 0, [1, 4, 67, 89, 'list', 'tomato', 'brinjal'], 3, [1, 4, 67, 89, 'list', 'tomato', 'brinjal'], 'parul', [1, 4, 67, 89, 'list', 'tomato', 'brinjal'], (5, 6), 1, 2, 3, 4, 5, 6, 'i', 'i', 'i', 'i', 'i', 'i', 1, 2, 3, 4, 5, 6, (1, 1), (2, 2), (3, 3), (4, 4), (5, 5), (6, 6), 1, 2, 3, 4, 5, 6, (1, 1), (2, 2), (3, 3), (4, 4), (5, 5), (6, 6)], 'manya'] "
     ]
    }
   ],
   "source": [
    "print(l2,end=\" \")"
   ]
  },
  {
   "cell_type": "code",
   "execution_count": 89,
   "metadata": {},
   "outputs": [
    {
     "name": "stdout",
     "output_type": "stream",
     "text": [
      "['raman', 3, 3, [1, 4, 67, 89, 'list', 'tomato', 'brinjal'], [...], 'extend'] "
     ]
    }
   ],
   "source": [
    "l3=['raman',3,3,l]\n",
    "l3.extend([l3,'extend'])\n",
    "print(l3,end=\" \")"
   ]
  },
  {
   "cell_type": "code",
   "execution_count": 90,
   "metadata": {},
   "outputs": [
    {
     "name": "stdout",
     "output_type": "stream",
     "text": [
      "['raman', 3, [1, 4, 67, 89, 'list', 'tomato', 'brinjal'], [...], 'extend'] "
     ]
    }
   ],
   "source": [
    "#removing element from list\n",
    "#use to remove the eleemnt from list\n",
    "l3.remove(3)\n",
    "print(l3,end=\" \")#removing the element 3 d=from yhe list"
   ]
  },
  {
   "cell_type": "code",
   "execution_count": 2,
   "metadata": {},
   "outputs": [
    {
     "data": {
      "text/plain": [
       "array([0., 0., 0., 0., 0., 0., 0., 0., 0., 0., 0., 0., 0., 0., 0., 0., 0.,\n",
       "       0., 0., 0.])"
      ]
     },
     "execution_count": 2,
     "metadata": {},
     "output_type": "execute_result"
    }
   ],
   "source": [
    "# for printing zeros array\n",
    "import numpy as np\n",
    "t=np.zeros(20)#single d array of zeroes\n",
    "t"
   ]
  },
  {
   "cell_type": "code",
   "execution_count": 3,
   "metadata": {},
   "outputs": [
    {
     "data": {
      "text/plain": [
       "array([[0., 0., 0., 0., 0.],\n",
       "       [0., 0., 0., 0., 0.],\n",
       "       [0., 0., 0., 0., 0.],\n",
       "       [0., 0., 0., 0., 0.],\n",
       "       [0., 0., 0., 0., 0.]])"
      ]
     },
     "execution_count": 3,
     "metadata": {},
     "output_type": "execute_result"
    }
   ],
   "source": [
    "#for printing two dimensional arrays of zeroes\n",
    "t=np.zeros([5,5])\n",
    "t"
   ]
  },
  {
   "cell_type": "code",
   "execution_count": 4,
   "metadata": {},
   "outputs": [
    {
     "data": {
      "text/plain": [
       "array([1., 1., 1., 1., 1.])"
      ]
     },
     "execution_count": 4,
     "metadata": {},
     "output_type": "execute_result"
    }
   ],
   "source": [
    "#for printing array of ones in one dimensional\n",
    "t=np.ones(5)\n",
    "t"
   ]
  },
  {
   "cell_type": "code",
   "execution_count": 5,
   "metadata": {},
   "outputs": [
    {
     "data": {
      "text/plain": [
       "array([[1., 1., 1., 1., 1.],\n",
       "       [1., 1., 1., 1., 1.],\n",
       "       [1., 1., 1., 1., 1.],\n",
       "       [1., 1., 1., 1., 1.],\n",
       "       [1., 1., 1., 1., 1.]])"
      ]
     },
     "execution_count": 5,
     "metadata": {},
     "output_type": "execute_result"
    }
   ],
   "source": [
    "#for printing 2-D arrays of 1's'\n",
    "t=np.ones([5,5])\n",
    "t"
   ]
  },
  {
   "cell_type": "code",
   "execution_count": 6,
   "metadata": {},
   "outputs": [
    {
     "data": {
      "text/plain": [
       "array(['22', '44', '55', 'manya'], dtype='<U11')"
      ]
     },
     "execution_count": 6,
     "metadata": {},
     "output_type": "execute_result"
    }
   ],
   "source": [
    "# for defining  1-d arrays method 1\n",
    "t1=np.array([22,44,55,'manya'])\n",
    "t1"
   ]
  },
  {
   "cell_type": "code",
   "execution_count": 7,
   "metadata": {},
   "outputs": [
    {
     "data": {
      "text/plain": [
       "array(['rose', 'jack', 'roman'], dtype='<U5')"
      ]
     },
     "execution_count": 7,
     "metadata": {},
     "output_type": "execute_result"
    }
   ],
   "source": [
    "#method 2\n",
    "l1=['rose','jack','roman']\n",
    "t2=np.array(l1)\n",
    "t2"
   ]
  },
  {
   "cell_type": "code",
   "execution_count": 9,
   "metadata": {},
   "outputs": [
    {
     "data": {
      "text/plain": [
       "array([['22', '33', '44'],\n",
       "       ['44', '66', '99'],\n",
       "       ['rose', 'jack', 'raven'],\n",
       "       ['rose', 'jack', 'roman']], dtype='<U11')"
      ]
     },
     "execution_count": 9,
     "metadata": {},
     "output_type": "execute_result"
    }
   ],
   "source": [
    "#for definig 2-d array in python\n",
    "t1=np.array([[22,33,44],[44,66,99],['rose','jack','raven'],l1])\n",
    "t1"
   ]
  },
  {
   "cell_type": "code",
   "execution_count": 10,
   "metadata": {},
   "outputs": [
    {
     "data": {
      "text/plain": [
       "array([ 0,  1,  2,  3,  4,  5,  6,  7,  8,  9, 10, 11])"
      ]
     },
     "execution_count": 10,
     "metadata": {},
     "output_type": "execute_result"
    }
   ],
   "source": [
    "#method 2\n",
    "#arange function gives a range b/w no.'s if written 0-,12 then array of 0,11'\n",
    "t2=np.arange(0,12)\n",
    "t2"
   ]
  },
  {
   "cell_type": "code",
   "execution_count": 15,
   "metadata": {},
   "outputs": [
    {
     "data": {
      "text/plain": [
       "array([[ 0,  1,  2,  3],\n",
       "       [ 4,  5,  6,  7],\n",
       "       [ 8,  9, 10, 11]])"
      ]
     },
     "execution_count": 15,
     "metadata": {},
     "output_type": "execute_result"
    }
   ],
   "source": [
    "#reshape function - it formmatrix or array of no. of element in specific manner\n",
    "t2=np.arange(0,12).reshape(3,4)#here are 12 element so can rearrange in 3*4 or 4*3 matrix\n",
    "t2"
   ]
  },
  {
   "cell_type": "code",
   "execution_count": 17,
   "metadata": {},
   "outputs": [
    {
     "data": {
      "text/plain": [
       "array([[[ 1,  2,  3],\n",
       "        [ 4,  5,  6]],\n",
       "\n",
       "       [[ 7,  8,  9],\n",
       "        [10, 11, 12]]])"
      ]
     },
     "execution_count": 17,
     "metadata": {},
     "output_type": "execute_result"
    }
   ],
   "source": [
    "#3-D arrange or reshapeof matrix\n",
    "y2=np.arange(1,13).reshape(2,2,3)#means 2*3 matrixand front 2 means two times 2*3 matrix\n",
    "y2"
   ]
  },
  {
   "cell_type": "code",
   "execution_count": 19,
   "metadata": {},
   "outputs": [
    {
     "data": {
      "text/plain": [
       "array([ 0., 10.])"
      ]
     },
     "execution_count": 19,
     "metadata": {},
     "output_type": "execute_result"
    }
   ],
   "source": [
    "#linspace means no of element you want b/w any range\n",
    "#i.e linapace (0,10,2) means two element from 0,10 range and at difference of 10\n",
    "t2=np.linspace(0,10,2)    #another array defining method\n",
    "t2      \n"
   ]
  },
  {
   "cell_type": "code",
   "execution_count": 20,
   "metadata": {},
   "outputs": [
    {
     "name": "stdout",
     "output_type": "stream",
     "text": [
      "[ 0.          0.10989011  0.21978022  0.32967033  0.43956044  0.54945055\n",
      "  0.65934066  0.76923077  0.87912088  0.98901099  1.0989011   1.20879121\n",
      "  1.31868132  1.42857143  1.53846154  1.64835165  1.75824176  1.86813187\n",
      "  1.97802198  2.08791209  2.1978022   2.30769231  2.41758242  2.52747253\n",
      "  2.63736264  2.74725275  2.85714286  2.96703297  3.07692308  3.18681319\n",
      "  3.2967033   3.40659341  3.51648352  3.62637363  3.73626374  3.84615385\n",
      "  3.95604396  4.06593407  4.17582418  4.28571429  4.3956044   4.50549451\n",
      "  4.61538462  4.72527473  4.83516484  4.94505495  5.05494505  5.16483516\n",
      "  5.27472527  5.38461538  5.49450549  5.6043956   5.71428571  5.82417582\n",
      "  5.93406593  6.04395604  6.15384615  6.26373626  6.37362637  6.48351648\n",
      "  6.59340659  6.7032967   6.81318681  6.92307692  7.03296703  7.14285714\n",
      "  7.25274725  7.36263736  7.47252747  7.58241758  7.69230769  7.8021978\n",
      "  7.91208791  8.02197802  8.13186813  8.24175824  8.35164835  8.46153846\n",
      "  8.57142857  8.68131868  8.79120879  8.9010989   9.01098901  9.12087912\n",
      "  9.23076923  9.34065934  9.45054945  9.56043956  9.67032967  9.78021978\n",
      "  9.89010989 10.        ]\n"
     ]
    }
   ],
   "source": [
    "print(np.linspace(0,10,92))#no. of 92 elements print b/w 0,10 range"
   ]
  },
  {
   "cell_type": "code",
   "execution_count": 21,
   "metadata": {},
   "outputs": [
    {
     "data": {
      "text/plain": [
       "array([0, 2, 4, 6, 8])"
      ]
     },
     "execution_count": 21,
     "metadata": {},
     "output_type": "execute_result"
    }
   ],
   "source": [
    "#print a range of no.'s b/w two number at with gap of particular number\n",
    "#here print no.s b/w 0 and 10 with gap of 2'\n",
    "t3=np.arange(0,10,2)\n",
    "t3"
   ]
  },
  {
   "cell_type": "code",
   "execution_count": 22,
   "metadata": {},
   "outputs": [
    {
     "data": {
      "text/plain": [
       "array([[1., 0.],\n",
       "       [0., 1.]])"
      ]
     },
     "execution_count": 22,
     "metadata": {},
     "output_type": "execute_result"
    }
   ],
   "source": [
    "# idenrtity matrix\n",
    "t=np.eye(2,2)#represent the order of identity maytreix\n",
    "t"
   ]
  },
  {
   "cell_type": "code",
   "execution_count": 25,
   "metadata": {},
   "outputs": [
    {
     "data": {
      "text/plain": [
       "array([[1., 0., 0., 0.],\n",
       "       [0., 1., 0., 0.],\n",
       "       [0., 0., 1., 0.],\n",
       "       [0., 0., 0., 1.]])"
      ]
     },
     "execution_count": 25,
     "metadata": {},
     "output_type": "execute_result"
    }
   ],
   "source": [
    "t=np.eye(4,4)\n",
    "t\n"
   ]
  },
  {
   "cell_type": "code",
   "execution_count": 24,
   "metadata": {},
   "outputs": [
    {
     "data": {
      "text/plain": [
       "array([[1.]])"
      ]
     },
     "execution_count": 24,
     "metadata": {},
     "output_type": "execute_result"
    }
   ],
   "source": [
    "t1=np.eye(1,1)\n",
    "t1"
   ]
  },
  {
   "cell_type": "code",
   "execution_count": null,
   "metadata": {},
   "outputs": [],
   "source": []
  }
 ],
 "metadata": {
  "kernelspec": {
   "display_name": "Python 3",
   "language": "python",
   "name": "python3"
  },
  "language_info": {
   "codemirror_mode": {
    "name": "ipython",
    "version": 3
   },
   "file_extension": ".py",
   "mimetype": "text/x-python",
   "name": "python",
   "nbconvert_exporter": "python",
   "pygments_lexer": "ipython3",
   "version": "3.7.3"
  }
 },
 "nbformat": 4,
 "nbformat_minor": 2
}
