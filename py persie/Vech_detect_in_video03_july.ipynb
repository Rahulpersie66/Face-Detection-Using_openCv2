{
 "cells": [
  {
   "cell_type": "code",
   "execution_count": 9,
   "metadata": {},
   "outputs": [
    {
     "ename": "IndentationError",
     "evalue": "unindent does not match any outer indentation level (<tokenize>, line 29)",
     "output_type": "error",
     "traceback": [
      "\u001b[1;36m  File \u001b[1;32m\"<tokenize>\"\u001b[1;36m, line \u001b[1;32m29\u001b[0m\n\u001b[1;33m    if cv2.waitKey(33) == 27:\u001b[0m\n\u001b[1;37m    ^\u001b[0m\n\u001b[1;31mIndentationError\u001b[0m\u001b[1;31m:\u001b[0m unindent does not match any outer indentation level\n"
     ]
    }
   ],
   "source": [
    "# OpenCV Python program to detect cars in video frame \n",
    "# import libraries of python OpenCV \n",
    "import cv2 \n",
    "import numpy\n",
    "\n",
    "# capture frames from a video \n",
    "cap = cv2.VideoCapture('video.avi') \n",
    "\n",
    "# Trained XML classifiers describes some features of some object we want to detect \n",
    "car_cascade = cv2.CascadeClassifier('cars.xml') \n",
    "\n",
    "# loop runs if capturing has been initialized. \n",
    "while True: \n",
    "\t# reads frames from a video \n",
    "\tret, frames = cap.read() \n",
    "\t\n",
    "\t# convert to gray scale of each frames \n",
    "\tgray = cv2.cvtColor(frames, cv2.COLOR_BGR2GRAY) \n",
    "\t\n",
    "\n",
    "\t# Detects cars of different sizes in the input image \n",
    "\tcars = car_cascade.detectMultiScale(gray, 1.1, 1) \n",
    "\t\n",
    "\t# To draw a rectangle in each cars \n",
    "\tfor (x,y,w,h) in cars: \n",
    "\t\tcv2.rectangle(frames,(x,y),(x+w,y+h),(0,0,255),2) \n",
    "\n",
    "        # Wait for Esc key to stop \n",
    "    if cv2.waitKey(33) == 27: \n",
    "        break\n",
    "\n",
    "# Display frames in a window \n",
    "cv2.imshow('video2', frames) \n",
    "\t\n",
    "\n",
    "# De-allocate any associated memory usage \n",
    "cv2.destroyAllWindows() \n"
   ]
  },
  {
   "cell_type": "code",
   "execution_count": null,
   "metadata": {},
   "outputs": [],
   "source": []
  }
 ],
 "metadata": {
  "kernelspec": {
   "display_name": "Python 3",
   "language": "python",
   "name": "python3"
  },
  "language_info": {
   "codemirror_mode": {
    "name": "ipython",
    "version": 3
   },
   "file_extension": ".py",
   "mimetype": "text/x-python",
   "name": "python",
   "nbconvert_exporter": "python",
   "pygments_lexer": "ipython3",
   "version": "3.7.3"
  }
 },
 "nbformat": 4,
 "nbformat_minor": 2
}
